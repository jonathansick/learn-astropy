{
 "cells": [
  {
   "cell_type": "markdown",
   "metadata": {},
   "source": [
    "# Astronomical Coordinates 1: Getting Started with astropy.coordinates\n",
    "\n",
    "## Authors\n",
    "Adrian Price-Whelan\n",
    "\n",
    "## Learning Goals\n",
    "* Create `astropy.coordinates.SkyCoord` objects using coordinate data and object names\n",
    "* Use SkyCoord objects to become familiar with object oriented programming (OOP)\n",
    "* Use a `SkyCoord` object to query the *Gaia* archive using `astroquery`\n",
    "* Output coordinate data in different string representations\n",
    "* Demonstrate working with 3D sky coordinates (including distance information for objects)\n",
    "\n",
    "## Keywords\n",
    "coordinates, OOP, astroquery, gaia\n",
    "\n",
    "\n",
    "## Summary\n",
    "\n",
    "Astronomers use a wide variety of coordinate systems and formats to represent sky coordinates of celestial objects. For example, you may have seen terms like \"right ascension\" and \"declination\" or \"galactic latitude and longitude,\" and you may have seen angular coordinate components represented as \"0h39m15.9s,\" \"00:39:15.9,\" or 9.81625º. The subpackage `astropy.coordinates` provides tools for representing the coordinates of objects and transforming them between different systems. \n",
    "\n",
    "In this tutorial, we will explore how the `astropy.coordinates` package can be used to work with astronomical coordinates. You may find it helpful to keep [the Astropy documentation for the coordinates package](http://docs.astropy.org/en/stable/coordinates/index.html) open alongside this tutorial for reference or additional reading. In the text below, you may also see some links that look like ([docs](http://docs.astropy.org/en/stable/coordinates/index.html)). These links will take you to parts of the documentation that are directly relevant to the cells from which they link. \n",
    "\n",
    "*Note: This is the 1st tutorial in a series of tutorials about astropy.coordinates.*\n",
    "- [Next tutorial: Astronomical Coordinates 2: Transforming Coordinate Systems and Representations](2-Coordinates-Transforms)"
   ]
  },
  {
   "cell_type": "markdown",
   "metadata": {},
   "source": [
    "## Imports\n",
    "\n",
    "We start by importing some packages that we will need below:"
   ]
  },
  {
   "cell_type": "code",
   "execution_count": 1,
   "metadata": {
    "execution": {
     "iopub.execute_input": "2022-01-12T15:15:38.065333Z",
     "iopub.status.busy": "2022-01-12T15:15:38.064896Z",
     "iopub.status.idle": "2022-01-12T15:15:39.542689Z",
     "shell.execute_reply": "2022-01-12T15:15:39.542098Z"
    }
   },
   "outputs": [],
   "source": [
    "import matplotlib.pyplot as plt\n",
    "%matplotlib inline\n",
    "import numpy as np\n",
    "\n",
    "from astropy import units as u\n",
    "from astropy.coordinates import SkyCoord, Distance\n",
    "from astropy.io import fits\n",
    "from astropy.table import QTable\n",
    "from astropy.utils.data import download_file\n",
    "\n",
    "from astroquery.gaia import Gaia\n",
    "Gaia.ROW_LIMIT = 10000  # Set the row limit for returned data"
   ]
  },
  {
   "cell_type": "markdown",
   "metadata": {},
   "source": [
    "## Representing On-sky Positions with `astropy.coordinates`\n",
    "\n",
    "In Astropy, the most common way of representing and working with sky coordinates is to use the `SkyCoord` object ([docs](https://docs.astropy.org/en/stable/coordinates/skycoord.html)). A `SkyCoord` can be created directly from angles or arrays of angles with associated units, as demonstrated below. \n",
    "\n",
    "To get started, let's assume that we want to create a `SkyCoord` object for the center of the open star cluster NGC 188 so that later we can query and retrieve stars that might be members of the cluster. Let's also assume, for now, that we already know the sky coordinates of the cluster to be (12.11, 85.26) degrees in the ICRS coordinate frame. The ICRS — sometimes referred to as \"equatorial\" or \"J2000\" coordinates ([more info about the ICRS](https://arxiv.org/abs/astro-ph/0602086)) — is currently the most common astronomical coordinate frame for stellar or extragalactic astronomy, and is the default coordinate frame for `SkyCoord`. Since we already know the ICRS position of NGC 188 (see above), we can create a `SkyCoord` object for the cluster by passing the data in to the `SkyCoord` initializer:"
   ]
  },
  {
   "cell_type": "code",
   "execution_count": 2,
   "metadata": {
    "execution": {
     "iopub.execute_input": "2022-01-12T15:15:39.550831Z",
     "iopub.status.busy": "2022-01-12T15:15:39.550337Z",
     "iopub.status.idle": "2022-01-12T15:15:39.555109Z",
     "shell.execute_reply": "2022-01-12T15:15:39.555451Z"
    }
   },
   "outputs": [
    {
     "data": {
      "text/plain": [
       "<SkyCoord (ICRS): (ra, dec) in deg\n",
       "    (12.11, 85.26)>"
      ]
     },
     "execution_count": 2,
     "metadata": {},
     "output_type": "execute_result"
    }
   ],
   "source": [
    "ngc188_center = SkyCoord(12.11*u.deg, 85.26*u.deg)\n",
    "ngc188_center"
   ]
  },
  {
   "cell_type": "markdown",
   "metadata": {},
   "source": [
    "Even though the default frame is ICRS, it is generally recommended to explicitly specify the frame your coordinates are in. In this case, this would be an equivalent way of creating our `SkyCoord` object for NGC 188:"
   ]
  },
  {
   "cell_type": "code",
   "execution_count": 3,
   "metadata": {
    "execution": {
     "iopub.execute_input": "2022-01-12T15:15:39.561607Z",
     "iopub.status.busy": "2022-01-12T15:15:39.561139Z",
     "iopub.status.idle": "2022-01-12T15:15:39.563419Z",
     "shell.execute_reply": "2022-01-12T15:15:39.563814Z"
    }
   },
   "outputs": [
    {
     "data": {
      "text/plain": [
       "<SkyCoord (ICRS): (ra, dec) in deg\n",
       "    (12.11, 85.26)>"
      ]
     },
     "execution_count": 3,
     "metadata": {},
     "output_type": "execute_result"
    }
   ],
   "source": [
    "ngc188_center = SkyCoord(12.11*u.deg, 85.26*u.deg, frame='icrs')\n",
    "ngc188_center"
   ]
  },
  {
   "cell_type": "markdown",
   "metadata": {},
   "source": [
    "As we will see later on in this series, there are many other supported coordinate frames, so it helps to get into the habit of passing in the name of a coordinate frame.\n",
    "\n",
    "In the above initializations, we passed in `astropy.units.Quantity` objects with angular units to specify the angular components of our sky coordinates. The `SkyCoord` initializer will also accept string-formatted coordinates either as separate strings for Right Ascension (RA) and Declination (Dec) or a single string. For example, if we have sexagesimal sky coordinate data: In this case, the representation of the data includes specifications of the units (the \"hms\" for \"hour minute second\", and the \"dms\" for \"degrees minute second\""
   ]
  },
  {
   "cell_type": "code",
   "execution_count": 4,
   "metadata": {
    "execution": {
     "iopub.execute_input": "2022-01-12T15:15:39.644006Z",
     "iopub.status.busy": "2022-01-12T15:15:39.640313Z",
     "iopub.status.idle": "2022-01-12T15:15:39.657873Z",
     "shell.execute_reply": "2022-01-12T15:15:39.657480Z"
    }
   },
   "outputs": [
    {
     "data": {
      "text/plain": [
       "<SkyCoord (ICRS): (ra, dec) in deg\n",
       "    (12.11, 85.26)>"
      ]
     },
     "execution_count": 4,
     "metadata": {},
     "output_type": "execute_result"
    }
   ],
   "source": [
    "SkyCoord('00h48m26.4s', '85d15m36s', frame='icrs')"
   ]
  },
  {
   "cell_type": "markdown",
   "metadata": {},
   "source": [
    "Some string representations do not explicitly define units, so it is sometimes necessary to specify the units of the string coordinate data explicitly if they are not implicitly included:"
   ]
  },
  {
   "cell_type": "code",
   "execution_count": 5,
   "metadata": {
    "execution": {
     "iopub.execute_input": "2022-01-12T15:15:39.663975Z",
     "iopub.status.busy": "2022-01-12T15:15:39.663509Z",
     "iopub.status.idle": "2022-01-12T15:15:39.666513Z",
     "shell.execute_reply": "2022-01-12T15:15:39.666130Z"
    }
   },
   "outputs": [
    {
     "data": {
      "text/plain": [
       "<SkyCoord (ICRS): (ra, dec) in deg\n",
       "    (12.11, 85.26)>"
      ]
     },
     "execution_count": 5,
     "metadata": {},
     "output_type": "execute_result"
    }
   ],
   "source": [
    "SkyCoord('00:48:26.4 85:15:36', unit=(u.hour, u.deg), \n",
    "         frame='icrs')"
   ]
  },
  {
   "cell_type": "markdown",
   "metadata": {},
   "source": [
    "For more information and examples on initializing `SkyCoord` objects, [see this documentation](http://docs.astropy.org/en/latest/coordinates/skycoord.html)."
   ]
  },
  {
   "cell_type": "markdown",
   "metadata": {},
   "source": [
    "For the `SkyCoord` initializations demonstrated above, we assumed that we already had the coordinate component values ready. If you do not know the coordinate values and the object you are interested in is in [SESAME](http://cdsweb.u-strasbg.fr/cgi-bin/Sesame), you can also automatically look up and load coordinate values from the name of the object using the `SkyCoord.from_name()` class method<sup>1</sup> ([docs](http://docs.astropy.org/en/latest/coordinates/index.html#convenience-methods)). Note, however, that this requires an internet connection. It is safe to skip this cell if you are not connected to the internet because we already defined the object `ngc188_center` in the cells above.\n",
    "\n",
    "<sub> <sup>1</sup>If you do not know what a class method is, think of it like an alternative constructor for a `SkyCoord` object — calling `SkyCoord.from_name()` with a name gives you a new `SkyCoord` object. For more detailed background on what class methods are and when they're useful, see [this page](https://julien.danjou.info/blog/2013/guide-python-static-class-abstract-methods).</sub>"
   ]
  },
  {
   "cell_type": "code",
   "execution_count": 6,
   "metadata": {
    "execution": {
     "iopub.execute_input": "2022-01-12T15:15:39.670093Z",
     "iopub.status.busy": "2022-01-12T15:15:39.669635Z",
     "iopub.status.idle": "2022-01-12T15:15:40.313982Z",
     "shell.execute_reply": "2022-01-12T15:15:40.314416Z"
    }
   },
   "outputs": [
    {
     "data": {
      "text/plain": [
       "<SkyCoord (ICRS): (ra, dec) in deg\n",
       "    (11.798, 85.244)>"
      ]
     },
     "execution_count": 6,
     "metadata": {},
     "output_type": "execute_result"
    }
   ],
   "source": [
    "ngc188_center = SkyCoord.from_name('NGC 188')\n",
    "ngc188_center"
   ]
  },
  {
   "cell_type": "markdown",
   "metadata": {},
   "source": [
    "The `SkyCoord` object that we defined now has various ways of accessing the coordinate information contained within it. All `SkyCoord` objects have attributes that allow you to retrieve the coordinate component data, but the component names will change depending on the coordinate frame of the `SkyCoord` you have. In our examples we have created a `SkyCoord` in the ICRS frame, so the component names are lower-case abbreviations of Right Ascension, `.ra`, and Declination, `.dec`:"
   ]
  },
  {
   "cell_type": "code",
   "execution_count": 7,
   "metadata": {
    "execution": {
     "iopub.execute_input": "2022-01-12T15:15:40.317370Z",
     "iopub.status.busy": "2022-01-12T15:15:40.316918Z",
     "iopub.status.idle": "2022-01-12T15:15:40.322031Z",
     "shell.execute_reply": "2022-01-12T15:15:40.321650Z"
    }
   },
   "outputs": [
    {
     "data": {
      "text/plain": [
       "(<Longitude 11.798 deg>, <Latitude 85.244 deg>)"
      ]
     },
     "execution_count": 7,
     "metadata": {},
     "output_type": "execute_result"
    }
   ],
   "source": [
    "ngc188_center.ra, ngc188_center.dec"
   ]
  },
  {
   "cell_type": "markdown",
   "metadata": {},
   "source": [
    "The `SkyCoord` component attributes (here ``ra`` and ``dec``) return specialized `Quantity`-like objects that make working with angular data easier. While `Quantity` ([docs](http://docs.astropy.org/en/stable/units/index.html)) is a general class that represents numerical values and physical units of any kind, `astropy.coordinates` defines subclasses of `Quantity` that are specifically designed for working with angles, such as the `Angle` ([docs](http://docs.astropy.org/en/stable/api/astropy.coordinates.Angle.html)) class. The `Angle` class then has additional, more specialized subclasses `Latitude` ([docs](http://docs.astropy.org/en/stable/api/astropy.coordinates.Latitude.html)) and `Longitude` ([docs](http://docs.astropy.org/en/stable/api/astropy.coordinates.Longitude.html)). These objects store angles, provide useful attributes to quickly convert to common angular units, and enable formatting the numerical values in various formats. For example, in a Jupyter notebook, these objects know how to represent themselves using LaTeX:"
   ]
  },
  {
   "cell_type": "code",
   "execution_count": 8,
   "metadata": {
    "execution": {
     "iopub.execute_input": "2022-01-12T15:15:40.327368Z",
     "iopub.status.busy": "2022-01-12T15:15:40.326896Z",
     "iopub.status.idle": "2022-01-12T15:15:40.329265Z",
     "shell.execute_reply": "2022-01-12T15:15:40.329632Z"
    }
   },
   "outputs": [
    {
     "data": {
      "text/latex": [
       "$11^\\circ47{}^\\prime52.8{}^{\\prime\\prime}$"
      ],
      "text/plain": [
       "<Longitude 11.798 deg>"
      ]
     },
     "execution_count": 8,
     "metadata": {},
     "output_type": "execute_result"
    }
   ],
   "source": [
    "ngc188_center.ra"
   ]
  },
  {
   "cell_type": "code",
   "execution_count": 9,
   "metadata": {
    "execution": {
     "iopub.execute_input": "2022-01-12T15:15:40.334839Z",
     "iopub.status.busy": "2022-01-12T15:15:40.334373Z",
     "iopub.status.idle": "2022-01-12T15:15:40.336750Z",
     "shell.execute_reply": "2022-01-12T15:15:40.337117Z"
    }
   },
   "outputs": [
    {
     "data": {
      "text/latex": [
       "$85^\\circ14{}^\\prime38.4{}^{\\prime\\prime}$"
      ],
      "text/plain": [
       "<Latitude 85.244 deg>"
      ]
     },
     "execution_count": 9,
     "metadata": {},
     "output_type": "execute_result"
    }
   ],
   "source": [
    "ngc188_center.dec"
   ]
  },
  {
   "cell_type": "code",
   "execution_count": 10,
   "metadata": {
    "execution": {
     "iopub.execute_input": "2022-01-12T15:15:40.341948Z",
     "iopub.status.busy": "2022-01-12T15:15:40.341478Z",
     "iopub.status.idle": "2022-01-12T15:15:40.343780Z",
     "shell.execute_reply": "2022-01-12T15:15:40.344150Z"
    }
   },
   "outputs": [
    {
     "data": {
      "text/plain": [
       "(astropy.coordinates.angles.Longitude, astropy.coordinates.angles.Latitude)"
      ]
     },
     "execution_count": 10,
     "metadata": {},
     "output_type": "execute_result"
    }
   ],
   "source": [
    "type(ngc188_center.ra), type(ngc188_center.dec)"
   ]
  },
  {
   "cell_type": "markdown",
   "metadata": {},
   "source": [
    "With these objects, we can retrieve the coordinate components in different units using the `Quantity.to()` method:"
   ]
  },
  {
   "cell_type": "code",
   "execution_count": 11,
   "metadata": {
    "execution": {
     "iopub.execute_input": "2022-01-12T15:15:40.349851Z",
     "iopub.status.busy": "2022-01-12T15:15:40.349386Z",
     "iopub.status.idle": "2022-01-12T15:15:40.351663Z",
     "shell.execute_reply": "2022-01-12T15:15:40.352040Z"
    }
   },
   "outputs": [
    {
     "data": {
      "text/plain": [
       "(<Longitude 0.78653333 hourangle>,\n",
       " <Longitude 0.20591395 rad>,\n",
       " <Longitude 11.798 deg>)"
      ]
     },
     "execution_count": 11,
     "metadata": {},
     "output_type": "execute_result"
    }
   ],
   "source": [
    "(ngc188_center.ra.to(u.hourangle), \n",
    " ngc188_center.ra.to(u.radian),\n",
    " ngc188_center.ra.to(u.degree))"
   ]
  },
  {
   "cell_type": "markdown",
   "metadata": {},
   "source": [
    "Or using the shorthand attributes, which return only the component values:"
   ]
  },
  {
   "cell_type": "code",
   "execution_count": 12,
   "metadata": {
    "execution": {
     "iopub.execute_input": "2022-01-12T15:15:40.356847Z",
     "iopub.status.busy": "2022-01-12T15:15:40.356379Z",
     "iopub.status.idle": "2022-01-12T15:15:40.358687Z",
     "shell.execute_reply": "2022-01-12T15:15:40.359050Z"
    }
   },
   "outputs": [
    {
     "data": {
      "text/plain": [
       "(0.7865333333333335, 0.205913945150291, 11.798)"
      ]
     },
     "execution_count": 12,
     "metadata": {},
     "output_type": "execute_result"
    }
   ],
   "source": [
    "(ngc188_center.ra.hour, \n",
    " ngc188_center.ra.radian, \n",
    " ngc188_center.ra.degree)"
   ]
  },
  {
   "cell_type": "markdown",
   "metadata": {},
   "source": [
    "We can also format the values into strings with specified units ([docs](http://docs.astropy.org/en/latest/coordinates/formatting.html)), for example:"
   ]
  },
  {
   "cell_type": "code",
   "execution_count": 13,
   "metadata": {
    "execution": {
     "iopub.execute_input": "2022-01-12T15:15:40.364007Z",
     "iopub.status.busy": "2022-01-12T15:15:40.363541Z",
     "iopub.status.idle": "2022-01-12T15:15:40.365762Z",
     "shell.execute_reply": "2022-01-12T15:15:40.366127Z"
    }
   },
   "outputs": [
    {
     "data": {
      "text/plain": [
       "'00:47:11.52'"
      ]
     },
     "execution_count": 13,
     "metadata": {},
     "output_type": "execute_result"
    }
   ],
   "source": [
    "ngc188_center.ra.to_string(unit=u.hourangle, sep=':', pad=True)"
   ]
  },
  {
   "cell_type": "markdown",
   "metadata": {},
   "source": [
    "## Querying the *Gaia* Archive to Retrieve Coordinates of Stars in NGC 188"
   ]
  },
  {
   "cell_type": "markdown",
   "metadata": {},
   "source": [
    "Now that we have a `SkyCoord` object for the center of NGC 188, we can use this object with the `astroquery` package to query many different astronomical databases (see a full list of [available services in the astroquery documentation](https://astroquery.readthedocs.io/en/latest/#available-services)). Here, we will use the `SkyCoord` object `ngc188_center` to select sources from the *Gaia* Data Release 2 catalog around the position of the center of NGC 188 to look for stars that might be members of the star cluster. To do this, we will use the `astroquery.gaia` subpackage ([docs](https://astroquery.readthedocs.io/en/latest/gaia/gaia.html)).\n",
    "\n",
    "This requires an internet connection, but if it fails, the catalog file is included in the repository so you can load it locally (skip the next cell if you do not have an internet connection):"
   ]
  },
  {
   "cell_type": "code",
   "execution_count": 14,
   "metadata": {
    "execution": {
     "iopub.execute_input": "2022-01-12T15:15:40.373127Z",
     "iopub.status.busy": "2022-01-12T15:15:40.372633Z",
     "iopub.status.idle": "2022-01-12T15:15:50.597688Z",
     "shell.execute_reply": "2022-01-12T15:15:50.598324Z"
    }
   },
   "outputs": [
    {
     "name": "stdout",
     "output_type": "stream",
     "text": [
      "INFO: Query finished. [astroquery.utils.tap.core]\n"
     ]
    }
   ],
   "source": [
    "job = Gaia.cone_search_async(ngc188_center, radius=0.5*u.deg)\n",
    "ngc188_table = job.get_results()\n",
    "\n",
    "# only keep stars brighter than G=19 magnitude\n",
    "ngc188_table = ngc188_table[ngc188_table['phot_g_mean_mag'] < 19*u.mag]"
   ]
  },
  {
   "cell_type": "code",
   "execution_count": 15,
   "metadata": {
    "execution": {
     "iopub.execute_input": "2022-01-12T15:15:50.605424Z",
     "iopub.status.busy": "2022-01-12T15:15:50.604929Z",
     "iopub.status.idle": "2022-01-12T15:15:50.648230Z",
     "shell.execute_reply": "2022-01-12T15:15:50.647524Z"
    }
   },
   "outputs": [],
   "source": [
    "cols = [\n",
    "    'source_id',\n",
    "    'ra',\n",
    "    'dec',\n",
    "    'parallax',\n",
    "    'parallax_error',\n",
    "    'pmra',\n",
    "    'pmdec',\n",
    "    'radial_velocity',\n",
    "    'phot_g_mean_mag',\n",
    "    'phot_bp_mean_mag',\n",
    "    'phot_rp_mean_mag'\n",
    "]\n",
    "ngc188_table[cols].write('gaia_results.fits', overwrite=True)"
   ]
  },
  {
   "cell_type": "markdown",
   "metadata": {},
   "source": [
    "The above cell may not work if you do not have an internet connection, so we have included the results table along with the notebook:"
   ]
  },
  {
   "cell_type": "code",
   "execution_count": 16,
   "metadata": {
    "execution": {
     "iopub.execute_input": "2022-01-12T15:15:50.652262Z",
     "iopub.status.busy": "2022-01-12T15:15:50.651801Z",
     "iopub.status.idle": "2022-01-12T15:15:50.688772Z",
     "shell.execute_reply": "2022-01-12T15:15:50.689206Z"
    }
   },
   "outputs": [],
   "source": [
    "ngc188_table = QTable.read('gaia_results.fits')"
   ]
  },
  {
   "cell_type": "code",
   "execution_count": 17,
   "metadata": {
    "execution": {
     "iopub.execute_input": "2022-01-12T15:15:50.694048Z",
     "iopub.status.busy": "2022-01-12T15:15:50.693310Z",
     "iopub.status.idle": "2022-01-12T15:15:50.697733Z",
     "shell.execute_reply": "2022-01-12T15:15:50.698087Z"
    }
   },
   "outputs": [
    {
     "data": {
      "text/plain": [
       "4954"
      ]
     },
     "execution_count": 17,
     "metadata": {},
     "output_type": "execute_result"
    }
   ],
   "source": [
    "len(ngc188_table)"
   ]
  },
  {
   "cell_type": "markdown",
   "metadata": {},
   "source": [
    "The returned `astropy.table` `Table` object now contains about 5000 stars from *Gaia* DR2 around the coordinate position of the center of NGC 188. Let's now construct a `SkyCoord` object with the results table. In the *Gaia* data archive, the ICRS coordinates of a source are given as column names `\"ra\"` and `\"dec\"`:"
   ]
  },
  {
   "cell_type": "code",
   "execution_count": 18,
   "metadata": {
    "execution": {
     "iopub.execute_input": "2022-01-12T15:15:50.703167Z",
     "iopub.status.busy": "2022-01-12T15:15:50.702666Z",
     "iopub.status.idle": "2022-01-12T15:15:50.705053Z",
     "shell.execute_reply": "2022-01-12T15:15:50.705405Z"
    }
   },
   "outputs": [
    {
     "data": {
      "text/latex": [
       "$[11.830262,~11.775835,~11.781434,~\\dots,~9.0073318,~6.283744,~16.037007] \\; \\mathrm{{}^{\\circ}}$"
      ],
      "text/plain": [
       "<Quantity [11.83026182, 11.77583526, 11.78143428, ...,  9.00733176,\n",
       "            6.28374403, 16.03700724] deg>"
      ]
     },
     "execution_count": 18,
     "metadata": {},
     "output_type": "execute_result"
    }
   ],
   "source": [
    "ngc188_table['ra']"
   ]
  },
  {
   "cell_type": "code",
   "execution_count": 19,
   "metadata": {
    "execution": {
     "iopub.execute_input": "2022-01-12T15:15:50.710308Z",
     "iopub.status.busy": "2022-01-12T15:15:50.709851Z",
     "iopub.status.idle": "2022-01-12T15:15:50.712414Z",
     "shell.execute_reply": "2022-01-12T15:15:50.712800Z"
    }
   },
   "outputs": [
    {
     "data": {
      "text/latex": [
       "$[85.243627,~85.241932,~85.247148,~\\dots,~84.814444,~85.080026,~84.910801] \\; \\mathrm{{}^{\\circ}}$"
      ],
      "text/plain": [
       "<Quantity [85.2436267 , 85.24193176, 85.24714789, ..., 84.81444405,\n",
       "           85.08002617, 84.91080112] deg>"
      ]
     },
     "execution_count": 19,
     "metadata": {},
     "output_type": "execute_result"
    }
   ],
   "source": [
    "ngc188_table['dec']"
   ]
  },
  {
   "cell_type": "markdown",
   "metadata": {},
   "source": [
    "Note that, because the *Gaia* archive provides data tables with associated units, and we read this table using the `QTable` object ([docs](http://docs.astropy.org/en/latest/table/mixin_columns.html#quantity-and-qtable)), the above table columns are represented as `Quantity` objects with units of degrees. Note also that these columns contain many (>5000!) coordinate values. We can pass these directly in to `SkyCoord` to get a single `SkyCoord` object to represent all of these coordinates:"
   ]
  },
  {
   "cell_type": "code",
   "execution_count": 20,
   "metadata": {
    "execution": {
     "iopub.execute_input": "2022-01-12T15:15:50.716919Z",
     "iopub.status.busy": "2022-01-12T15:15:50.716458Z",
     "iopub.status.idle": "2022-01-12T15:15:50.722141Z",
     "shell.execute_reply": "2022-01-12T15:15:50.722608Z"
    }
   },
   "outputs": [
    {
     "data": {
      "text/plain": [
       "<SkyCoord (ICRS): (ra, dec) in deg\n",
       "    [(11.83026182, 85.2436267 ), (11.77583526, 85.24193176),\n",
       "     (11.78143428, 85.24714789), ..., ( 9.00733176, 84.81444405),\n",
       "     ( 6.28374403, 85.08002617), (16.03700724, 84.91080112)]>"
      ]
     },
     "execution_count": 20,
     "metadata": {},
     "output_type": "execute_result"
    }
   ],
   "source": [
    "ngc188_gaia_coords = SkyCoord(ngc188_table['ra'], ngc188_table['dec'])\n",
    "ngc188_gaia_coords"
   ]
  },
  {
   "cell_type": "markdown",
   "metadata": {},
   "source": [
    "### Exercises"
   ]
  },
  {
   "cell_type": "markdown",
   "metadata": {},
   "source": [
    "Create a `SkyCoord` for the center of the open cluster the Pleiades (either by looking up the coordinates and passing them in, or by using the convenience method we learned about above):"
   ]
  },
  {
   "cell_type": "code",
   "execution_count": 21,
   "metadata": {
    "execution": {
     "iopub.execute_input": "2022-01-12T15:15:50.726486Z",
     "iopub.status.busy": "2022-01-12T15:15:50.726042Z",
     "iopub.status.idle": "2022-01-12T15:15:50.729734Z",
     "shell.execute_reply": "2022-01-12T15:15:50.729352Z"
    }
   },
   "outputs": [],
   "source": [
    "ngc188_center = SkyCoord.from_name('NGC 188')"
   ]
  },
  {
   "cell_type": "markdown",
   "metadata": {},
   "source": [
    "Using only a single method/function call on the `SkyCoord` object representing the center of NGC 188, print a string with the RA/Dec in the form 'HH:MM:SS.S DD:MM:SS.S'. Check your answer against [SIMBAD](http://simbad.u-strasbg.fr/simbad/), which will show you sexagesimal coordinates for the object.\n",
    "\n",
    "<sub>(Hint: `SkyCoord.to_string()` might be useful)</sub>"
   ]
  },
  {
   "cell_type": "code",
   "execution_count": 22,
   "metadata": {
    "execution": {
     "iopub.execute_input": "2022-01-12T15:15:50.735434Z",
     "iopub.status.busy": "2022-01-12T15:15:50.734962Z",
     "iopub.status.idle": "2022-01-12T15:15:50.737354Z",
     "shell.execute_reply": "2022-01-12T15:15:50.737726Z"
    }
   },
   "outputs": [
    {
     "data": {
      "text/plain": [
       "'00:47:11.5 +85:14:38.4'"
      ]
     },
     "execution_count": 22,
     "metadata": {},
     "output_type": "execute_result"
    }
   ],
   "source": [
    "ngc188_center.to_string(style=\"hmsdms\", sep=\":\", precision=1)"
   ]
  },
  {
   "cell_type": "markdown",
   "metadata": {},
   "source": [
    "Using a single method/function call on the `SkyCoord` object containing the results of our *Gaia* query, compute the angular separation between each resulting star and the coordinates of the cluster center for NGC 188.\n",
    "\n",
    "<sub>(Hint: `SkyCoord.separation()` might be useful)</sub>"
   ]
  },
  {
   "cell_type": "code",
   "execution_count": 23,
   "metadata": {
    "execution": {
     "iopub.execute_input": "2022-01-12T15:15:50.741673Z",
     "iopub.status.busy": "2022-01-12T15:15:50.741231Z",
     "iopub.status.idle": "2022-01-12T15:15:50.748398Z",
     "shell.execute_reply": "2022-01-12T15:15:50.748775Z"
    }
   },
   "outputs": [
    {
     "data": {
      "text/latex": [
       "[$0^\\circ00{}^\\prime09.72337022{}^{\\prime\\prime}$\n",
       " $0^\\circ00{}^\\prime09.96124285{}^{\\prime\\prime}$\n",
       " $0^\\circ00{}^\\prime12.36352621{}^{\\prime\\prime}$ ...\n",
       " $0^\\circ29{}^\\prime34.13742453{}^{\\prime\\prime}$\n",
       " $0^\\circ29{}^\\prime34.41793609{}^{\\prime\\prime}$\n",
       " $0^\\circ29{}^\\prime35.07269363{}^{\\prime\\prime}$]"
      ],
      "text/plain": [
       "<Angle [0.00270094, 0.00276701, 0.00343431, ..., 0.49281595, 0.49289387,\n",
       "        0.49307575] deg>"
      ]
     },
     "execution_count": 23,
     "metadata": {},
     "output_type": "execute_result"
    }
   ],
   "source": [
    "ngc188_gaia_coords.separation(ngc188_center)"
   ]
  },
  {
   "cell_type": "markdown",
   "metadata": {},
   "source": [
    "## More Than Just Sky Positions: Including Distance Information in `SkyCoord`\n",
    "\n",
    "So far, we have used `SkyCoord` to represent angular sky positions (i.e., `ra` and `dec` only). It is sometimes useful to include distance information with the sky coordinates of a source, thereby specifying the full 3D position of an object. To pass in distance information, `SkyCoord` accepts the keyword argument \"`distance`\". So, if we knew that the distance to NGC 188 is 1.96 kpc, we could also pass in a distance (as a `Quantity` object) using this argument:"
   ]
  },
  {
   "cell_type": "code",
   "execution_count": 24,
   "metadata": {
    "execution": {
     "iopub.execute_input": "2022-01-12T15:15:50.754227Z",
     "iopub.status.busy": "2022-01-12T15:15:50.753243Z",
     "iopub.status.idle": "2022-01-12T15:15:50.754745Z",
     "shell.execute_reply": "2022-01-12T15:15:50.755138Z"
    }
   },
   "outputs": [],
   "source": [
    "ngc188_center_3d = SkyCoord(12.11*u.deg, 85.26*u.deg,\n",
    "                            distance=1.96*u.kpc)"
   ]
  },
  {
   "cell_type": "markdown",
   "metadata": {},
   "source": [
    "With the table of *Gaia* data we retrieved above for stars around NGC 188, `ngc188_table`, we also have parallax measurements for each star. For a precisely-measured parallax $\\varpi$, the distance $d$ to a star can be obtained approximately as $d \\approx 1/\\varpi$. This only really works if the parallax error is small relative to the parallax ([see discussion in this paper](https://arxiv.org/abs/1507.02105)), so if we want to use these parallaxes to get distances we first have to filter out stars that have low signal-to-noise parallaxes:"
   ]
  },
  {
   "cell_type": "code",
   "execution_count": 25,
   "metadata": {
    "execution": {
     "iopub.execute_input": "2022-01-12T15:15:50.759071Z",
     "iopub.status.busy": "2022-01-12T15:15:50.758599Z",
     "iopub.status.idle": "2022-01-12T15:15:50.764249Z",
     "shell.execute_reply": "2022-01-12T15:15:50.764600Z"
    }
   },
   "outputs": [
    {
     "data": {
      "text/plain": [
       "2045"
      ]
     },
     "execution_count": 25,
     "metadata": {},
     "output_type": "execute_result"
    }
   ],
   "source": [
    "parallax_snr = ngc188_table['parallax'] / ngc188_table['parallax_error']\n",
    "ngc188_table_3d = ngc188_table[parallax_snr > 10] \n",
    "len(ngc188_table_3d)"
   ]
  },
  {
   "cell_type": "markdown",
   "metadata": {},
   "source": [
    "The above selection on `parallax_snr` keeps stars that have a ~10-sigma parallax measurement, but this is an arbitrary selection threshold that you may want to tune or remove in your own use cases. This selection removed over half of the stars in our original table, but for the remaining stars we can be confident that converting the parallax measurements to distances is mostly safe.\n",
    "\n",
    "The default way of passing in a distance to a `SkyCoord` object, as above, is to pass in a `Quantity` with a unit of length. However, `astropy.coordinates` also provides a specialized object, `Distance`, for handling common transformations of different distance representations ([docs](http://docs.astropy.org/en/latest/coordinates/index.html#distance)). Among other things, this class supports passing in a parallax value:"
   ]
  },
  {
   "cell_type": "code",
   "execution_count": 26,
   "metadata": {
    "execution": {
     "iopub.execute_input": "2022-01-12T15:15:50.770404Z",
     "iopub.status.busy": "2022-01-12T15:15:50.769935Z",
     "iopub.status.idle": "2022-01-12T15:15:50.772342Z",
     "shell.execute_reply": "2022-01-12T15:15:50.772712Z"
    }
   },
   "outputs": [
    {
     "data": {
      "text/latex": [
       "$1000 \\; \\mathrm{pc}$"
      ],
      "text/plain": [
       "<Distance 1000. pc>"
      ]
     },
     "execution_count": 26,
     "metadata": {},
     "output_type": "execute_result"
    }
   ],
   "source": [
    "Distance(parallax=1*u.mas)"
   ]
  },
  {
   "cell_type": "markdown",
   "metadata": {},
   "source": [
    "The catalog of stars we queried from *Gaia* contains parallax information in milliarcsecond units, so we can create a `Distance` object directly from these values:"
   ]
  },
  {
   "cell_type": "code",
   "execution_count": 27,
   "metadata": {
    "execution": {
     "iopub.execute_input": "2022-01-12T15:15:50.777285Z",
     "iopub.status.busy": "2022-01-12T15:15:50.776799Z",
     "iopub.status.idle": "2022-01-12T15:15:50.779103Z",
     "shell.execute_reply": "2022-01-12T15:15:50.778724Z"
    }
   },
   "outputs": [],
   "source": [
    "gaia_dist = Distance(parallax=ngc188_table_3d['parallax'].filled(np.nan))"
   ]
  },
  {
   "cell_type": "markdown",
   "metadata": {},
   "source": [
    "We can then create a `SkyCoord` object to represent the 3D positions of all of the *Gaia* stars by passing in this distance object to the `SkyCoord` initializer:"
   ]
  },
  {
   "cell_type": "code",
   "execution_count": 28,
   "metadata": {
    "execution": {
     "iopub.execute_input": "2022-01-12T15:15:50.784497Z",
     "iopub.status.busy": "2022-01-12T15:15:50.784036Z",
     "iopub.status.idle": "2022-01-12T15:15:50.789770Z",
     "shell.execute_reply": "2022-01-12T15:15:50.789343Z"
    }
   },
   "outputs": [
    {
     "data": {
      "text/plain": [
       "<SkyCoord (ICRS): (ra, dec, distance) in (deg, deg, pc)\n",
       "    [(11.77583526, 85.24193176, 1732.33856712),\n",
       "     (11.79609228, 85.24947782, 1807.88146705),\n",
       "     (11.7247587 , 85.24364992, 1967.48335718), ...,\n",
       "     (13.6808148 , 84.78031087, 1132.77844818),\n",
       "     ( 6.2852781 , 85.08022389,  158.78970106),\n",
       "     ( 7.46880607, 84.9195982 , 1767.89065721)]>"
      ]
     },
     "execution_count": 28,
     "metadata": {},
     "output_type": "execute_result"
    }
   ],
   "source": [
    "ngc188_coords_3d = SkyCoord(ra=ngc188_table_3d['ra'], \n",
    "                            dec=ngc188_table_3d['dec'],\n",
    "                            distance=gaia_dist)\n",
    "ngc188_coords_3d"
   ]
  },
  {
   "cell_type": "markdown",
   "metadata": {},
   "source": [
    "Let's now use `matplotlib` to plot the sky positions of all of these sources, colored by distance to emphasize the cluster stars:"
   ]
  },
  {
   "cell_type": "code",
   "execution_count": 29,
   "metadata": {
    "execution": {
     "iopub.execute_input": "2022-01-12T15:15:50.798584Z",
     "iopub.status.busy": "2022-01-12T15:15:50.795289Z",
     "iopub.status.idle": "2022-01-12T15:15:51.179286Z",
     "shell.execute_reply": "2022-01-12T15:15:51.178844Z"
    }
   },
   "outputs": [
    {
     "data": {
      "text/plain": [
       "Text(0.5, 1.0, 'Gaia DR2 sources near NGC 188')"
      ]
     },
     "execution_count": 29,
     "metadata": {},
     "output_type": "execute_result"
    },
    {
     "data": {
      "image/png": "[encoded data removed]",
      "text/plain": [
       "<Figure size 468x374.4 with 2 Axes>"
      ]
     },
     "metadata": {
      "needs_background": "light"
     },
     "output_type": "display_data"
    }
   ],
   "source": [
    "fig, ax = plt.subplots(figsize=(6.5, 5.2),\n",
    "                       constrained_layout=True)\n",
    "cs = ax.scatter(ngc188_coords_3d.ra.degree, \n",
    "                ngc188_coords_3d.dec.degree, \n",
    "                c=ngc188_coords_3d.distance.kpc, \n",
    "                s=5, vmin=1.5, vmax=2.5, cmap='twilight')\n",
    "cb = fig.colorbar(cs)\n",
    "cb.set_label(f'distance [{u.kpc:latex_inline}]')\n",
    "\n",
    "ax.set_xlabel('RA [deg]')\n",
    "ax.set_ylabel('Dec [deg]')\n",
    "\n",
    "ax.set_title('Gaia DR2 sources near NGC 188', fontsize=18)"
   ]
  },
  {
   "cell_type": "markdown",
   "metadata": {},
   "source": [
    "Now that we have 3D position information for both the cluster center, and for the stars we queried from *Gaia*, we can compute the 3D separation (distance) between all of the *Gaia* sources and the cluster center:"
   ]
  },
  {
   "cell_type": "code",
   "execution_count": 30,
   "metadata": {
    "execution": {
     "iopub.execute_input": "2022-01-12T15:15:51.183831Z",
     "iopub.status.busy": "2022-01-12T15:15:51.183317Z",
     "iopub.status.idle": "2022-01-12T15:15:51.188944Z",
     "shell.execute_reply": "2022-01-12T15:15:51.189323Z"
    }
   },
   "outputs": [
    {
     "data": {
      "text/latex": [
       "$[227.66391,~152.12132,~7.5834815,~\\dots,~827.32319,~1801.2175,~192.85899] \\; \\mathrm{pc}$"
      ],
      "text/plain": [
       "<Distance [ 227.6639131 ,  152.12131824,    7.58348148, ...,  827.32319151,\n",
       "           1801.21747162,  192.85899356] pc>"
      ]
     },
     "execution_count": 30,
     "metadata": {},
     "output_type": "execute_result"
    }
   ],
   "source": [
    "sep3d = ngc188_coords_3d.separation_3d(ngc188_center_3d)\n",
    "sep3d"
   ]
  },
  {
   "cell_type": "markdown",
   "metadata": {},
   "source": [
    "### Exercises\n",
    "\n",
    "Using the 3D separation values, define a boolean mask to select candidate members of the cluster. Select all stars within 50 pc of the cluster center. How many candidate members of NGC 188 do we have, based on their 3D positions?"
   ]
  },
  {
   "cell_type": "code",
   "execution_count": 31,
   "metadata": {
    "execution": {
     "iopub.execute_input": "2022-01-12T15:15:51.194456Z",
     "iopub.status.busy": "2022-01-12T15:15:51.193976Z",
     "iopub.status.idle": "2022-01-12T15:15:51.196386Z",
     "shell.execute_reply": "2022-01-12T15:15:51.196759Z"
    }
   },
   "outputs": [
    {
     "data": {
      "text/plain": [
       "191"
      ]
     },
     "execution_count": 31,
     "metadata": {},
     "output_type": "execute_result"
    }
   ],
   "source": [
    "ngc188_3d_mask = sep3d < 50*u.pc\n",
    "ngc188_3d_mask.sum()"
   ]
  },
  {
   "cell_type": "markdown",
   "metadata": {},
   "source": [
    "In this tutorial, we have introduced `astropy.coordinates` as a way to store and represent astronomical sky coordinates. We used coordinate objects, via the `SkyCoord` class interface, to parse and change coordinate representations and units. We also demonstrated how to use a `SkyCoord` object with the `astroquery` package to query an astronomical database, the *Gaia* science archive. We then created a single `SkyCoord` object with the queried data that represents the sky coordinates of many objects. Finally, we introduced the concept of using `astropy.coordinates` to represent a 3D position of an object or set of objects."
   ]
  }
 ],
 "metadata": {
  "kernelspec": {
   "display_name": "Python 3",
   "language": "python",
   "name": "python3"
  },
  "language_info": {
   "codemirror_mode": {
    "name": "ipython",
    "version": 3
   },
   "file_extension": ".py",
   "mimetype": "text/x-python",
   "name": "python",
   "nbconvert_exporter": "python",
   "pygments_lexer": "ipython3",
   "version": "3.9.9"
  },
  "toc": {
   "base_numbering": 1,
   "nav_menu": {},
   "number_sections": true,
   "sideBar": true,
   "skip_h1_title": false,
   "title_cell": "Table of Contents",
   "title_sidebar": "Contents",
   "toc_cell": false,
   "toc_position": {},
   "toc_section_display": true,
   "toc_window_display": false
  }
 },
 "nbformat": 4,
 "nbformat_minor": 2
}
